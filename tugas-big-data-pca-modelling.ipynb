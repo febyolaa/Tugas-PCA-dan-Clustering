{
 "cells": [
  {
   "cell_type": "code",
   "execution_count": 1,
   "id": "f4f4281a",
   "metadata": {
    "_cell_guid": "b1076dfc-b9ad-4769-8c92-a6c4dae69d19",
    "_uuid": "8f2839f25d086af736a60e9eeb907d3b93b6e0e5",
    "execution": {
     "iopub.execute_input": "2022-07-06T06:16:03.594500Z",
     "iopub.status.busy": "2022-07-06T06:16:03.593908Z",
     "iopub.status.idle": "2022-07-06T06:16:03.610750Z",
     "shell.execute_reply": "2022-07-06T06:16:03.609621Z"
    },
    "papermill": {
     "duration": 0.033374,
     "end_time": "2022-07-06T06:16:03.612781",
     "exception": false,
     "start_time": "2022-07-06T06:16:03.579407",
     "status": "completed"
    },
    "tags": []
   },
   "outputs": [
    {
     "name": "stdout",
     "output_type": "stream",
     "text": [
      "/kaggle/input/financial-ratio-bank/Data bank.csv\n"
     ]
    }
   ],
   "source": [
    "# This Python 3 environment comes with many helpful analytics libraries installed\n",
    "# It is defined by the kaggle/python Docker image: https://github.com/kaggle/docker-python\n",
    "# For example, here's several helpful packages to load\n",
    "\n",
    "import numpy as np # linear algebra\n",
    "import pandas as pd # data processing, CSV file I/O (e.g. pd.read_csv)\n",
    "\n",
    "# Input data files are available in the read-only \"../input/\" directory\n",
    "# For example, running this (by clicking run or pressing Shift+Enter) will list all files under the input directory\n",
    "\n",
    "import os\n",
    "for dirname, _, filenames in os.walk('/kaggle/input'):\n",
    "    for filename in filenames:\n",
    "        print(os.path.join(dirname, filename))\n",
    "\n",
    "# You can write up to 20GB to the current directory (/kaggle/working/) that gets preserved as output when you create a version using \"Save & Run All\" \n",
    "# You can also write temporary files to /kaggle/temp/, but they won't be saved outside of the current session"
   ]
  },
  {
   "cell_type": "code",
   "execution_count": 2,
   "id": "85782551",
   "metadata": {
    "execution": {
     "iopub.execute_input": "2022-07-06T06:16:03.626022Z",
     "iopub.status.busy": "2022-07-06T06:16:03.625645Z",
     "iopub.status.idle": "2022-07-06T06:16:04.952261Z",
     "shell.execute_reply": "2022-07-06T06:16:04.950959Z"
    },
    "papermill": {
     "duration": 1.336113,
     "end_time": "2022-07-06T06:16:04.954737",
     "exception": false,
     "start_time": "2022-07-06T06:16:03.618624",
     "status": "completed"
    },
    "tags": []
   },
   "outputs": [],
   "source": [
    "import pandas as pd\n",
    "import numpy as np\n",
    "from matplotlib import pyplot as plt\n",
    "import seaborn as sns\n",
    "from sklearn.decomposition import PCA\n",
    "from matplotlib.colors import ListedColormap\n",
    "from sklearn.preprocessing import StandardScaler\n",
    "from sklearn.datasets import load_iris"
   ]
  },
  {
   "cell_type": "code",
   "execution_count": 3,
   "id": "bccffe86",
   "metadata": {
    "execution": {
     "iopub.execute_input": "2022-07-06T06:16:04.969014Z",
     "iopub.status.busy": "2022-07-06T06:16:04.968532Z",
     "iopub.status.idle": "2022-07-06T06:16:05.002088Z",
     "shell.execute_reply": "2022-07-06T06:16:05.001527Z"
    },
    "papermill": {
     "duration": 0.043008,
     "end_time": "2022-07-06T06:16:05.004018",
     "exception": false,
     "start_time": "2022-07-06T06:16:04.961010",
     "status": "completed"
    },
    "tags": []
   },
   "outputs": [
    {
     "name": "stdout",
     "output_type": "stream",
     "text": [
      "<class 'pandas.core.frame.DataFrame'>\n",
      "RangeIndex: 27 entries, 0 to 26\n",
      "Data columns (total 5 columns):\n",
      " #   Column                   Non-Null Count  Dtype  \n",
      "---  ------                   --------------  -----  \n",
      " 0   Emitten                  27 non-null     object \n",
      " 1    DER                     27 non-null     float64\n",
      " 2   Operating Profit Margin  27 non-null     float64\n",
      " 3   ROA                      27 non-null     float64\n",
      " 4   Sales Growth             27 non-null     float64\n",
      "dtypes: float64(4), object(1)\n",
      "memory usage: 1.2+ KB\n"
     ]
    }
   ],
   "source": [
    "data = pd.read_csv('../input/financial-ratio-bank/Data bank.csv')\n",
    "data.info()"
   ]
  },
  {
   "cell_type": "code",
   "execution_count": 4,
   "id": "1c6fce54",
   "metadata": {
    "execution": {
     "iopub.execute_input": "2022-07-06T06:16:05.019706Z",
     "iopub.status.busy": "2022-07-06T06:16:05.019028Z",
     "iopub.status.idle": "2022-07-06T06:16:05.038326Z",
     "shell.execute_reply": "2022-07-06T06:16:05.037048Z"
    },
    "papermill": {
     "duration": 0.029476,
     "end_time": "2022-07-06T06:16:05.040937",
     "exception": false,
     "start_time": "2022-07-06T06:16:05.011461",
     "status": "completed"
    },
    "tags": []
   },
   "outputs": [
    {
     "data": {
      "text/html": [
       "<div>\n",
       "<style scoped>\n",
       "    .dataframe tbody tr th:only-of-type {\n",
       "        vertical-align: middle;\n",
       "    }\n",
       "\n",
       "    .dataframe tbody tr th {\n",
       "        vertical-align: top;\n",
       "    }\n",
       "\n",
       "    .dataframe thead th {\n",
       "        text-align: right;\n",
       "    }\n",
       "</style>\n",
       "<table border=\"1\" class=\"dataframe\">\n",
       "  <thead>\n",
       "    <tr style=\"text-align: right;\">\n",
       "      <th></th>\n",
       "      <th>Emitten</th>\n",
       "      <th>DER</th>\n",
       "      <th>Operating Profit Margin</th>\n",
       "      <th>ROA</th>\n",
       "      <th>Sales Growth</th>\n",
       "    </tr>\n",
       "  </thead>\n",
       "  <tbody>\n",
       "    <tr>\n",
       "      <th>0</th>\n",
       "      <td>AGRO</td>\n",
       "      <td>7.15</td>\n",
       "      <td>110.512950</td>\n",
       "      <td>-0.09</td>\n",
       "      <td>-185.032137</td>\n",
       "    </tr>\n",
       "    <tr>\n",
       "      <th>1</th>\n",
       "      <td>BBCA</td>\n",
       "      <td>4.88</td>\n",
       "      <td>984.562599</td>\n",
       "      <td>0.03</td>\n",
       "      <td>-1485.583000</td>\n",
       "    </tr>\n",
       "    <tr>\n",
       "      <th>2</th>\n",
       "      <td>BBHI</td>\n",
       "      <td>4.36</td>\n",
       "      <td>0.122581</td>\n",
       "      <td>0.01</td>\n",
       "      <td>121.858090</td>\n",
       "    </tr>\n",
       "    <tr>\n",
       "      <th>3</th>\n",
       "      <td>BBKP</td>\n",
       "      <td>10.03</td>\n",
       "      <td>56.900895</td>\n",
       "      <td>-0.01</td>\n",
       "      <td>-1445.750000</td>\n",
       "    </tr>\n",
       "    <tr>\n",
       "      <th>4</th>\n",
       "      <td>BBMD</td>\n",
       "      <td>2.90</td>\n",
       "      <td>25.002276</td>\n",
       "      <td>0.03</td>\n",
       "      <td>61.545475</td>\n",
       "    </tr>\n",
       "  </tbody>\n",
       "</table>\n",
       "</div>"
      ],
      "text/plain": [
       "  Emitten    DER  Operating Profit Margin   ROA  Sales Growth\n",
       "0    AGRO   7.15               110.512950 -0.09   -185.032137\n",
       "1    BBCA   4.88               984.562599  0.03  -1485.583000\n",
       "2    BBHI   4.36                 0.122581  0.01    121.858090\n",
       "3    BBKP  10.03                56.900895 -0.01  -1445.750000\n",
       "4    BBMD   2.90                25.002276  0.03     61.545475"
      ]
     },
     "execution_count": 4,
     "metadata": {},
     "output_type": "execute_result"
    }
   ],
   "source": [
    "data.head()"
   ]
  },
  {
   "cell_type": "code",
   "execution_count": 5,
   "id": "efaa7918",
   "metadata": {
    "execution": {
     "iopub.execute_input": "2022-07-06T06:16:05.062006Z",
     "iopub.status.busy": "2022-07-06T06:16:05.061497Z",
     "iopub.status.idle": "2022-07-06T06:16:05.075989Z",
     "shell.execute_reply": "2022-07-06T06:16:05.074766Z"
    },
    "papermill": {
     "duration": 0.027878,
     "end_time": "2022-07-06T06:16:05.078623",
     "exception": false,
     "start_time": "2022-07-06T06:16:05.050745",
     "status": "completed"
    },
    "tags": []
   },
   "outputs": [
    {
     "data": {
      "text/html": [
       "<div>\n",
       "<style scoped>\n",
       "    .dataframe tbody tr th:only-of-type {\n",
       "        vertical-align: middle;\n",
       "    }\n",
       "\n",
       "    .dataframe tbody tr th {\n",
       "        vertical-align: top;\n",
       "    }\n",
       "\n",
       "    .dataframe thead th {\n",
       "        text-align: right;\n",
       "    }\n",
       "</style>\n",
       "<table border=\"1\" class=\"dataframe\">\n",
       "  <thead>\n",
       "    <tr style=\"text-align: right;\">\n",
       "      <th></th>\n",
       "      <th>DER</th>\n",
       "      <th>Operating Profit Margin</th>\n",
       "      <th>ROA</th>\n",
       "    </tr>\n",
       "  </thead>\n",
       "  <tbody>\n",
       "    <tr>\n",
       "      <th>0</th>\n",
       "      <td>7.15</td>\n",
       "      <td>110.512950</td>\n",
       "      <td>-0.09</td>\n",
       "    </tr>\n",
       "    <tr>\n",
       "      <th>1</th>\n",
       "      <td>4.88</td>\n",
       "      <td>984.562599</td>\n",
       "      <td>0.03</td>\n",
       "    </tr>\n",
       "    <tr>\n",
       "      <th>2</th>\n",
       "      <td>4.36</td>\n",
       "      <td>0.122581</td>\n",
       "      <td>0.01</td>\n",
       "    </tr>\n",
       "    <tr>\n",
       "      <th>3</th>\n",
       "      <td>10.03</td>\n",
       "      <td>56.900895</td>\n",
       "      <td>-0.01</td>\n",
       "    </tr>\n",
       "    <tr>\n",
       "      <th>4</th>\n",
       "      <td>2.90</td>\n",
       "      <td>25.002276</td>\n",
       "      <td>0.03</td>\n",
       "    </tr>\n",
       "  </tbody>\n",
       "</table>\n",
       "</div>"
      ],
      "text/plain": [
       "     DER  Operating Profit Margin   ROA\n",
       "0   7.15               110.512950 -0.09\n",
       "1   4.88               984.562599  0.03\n",
       "2   4.36                 0.122581  0.01\n",
       "3  10.03                56.900895 -0.01\n",
       "4   2.90                25.002276  0.03"
      ]
     },
     "execution_count": 5,
     "metadata": {},
     "output_type": "execute_result"
    }
   ],
   "source": [
    "datax = data[[' DER','Operating Profit Margin','ROA']]\n",
    "datax.head()"
   ]
  },
  {
   "cell_type": "code",
   "execution_count": 6,
   "id": "e82737c4",
   "metadata": {
    "execution": {
     "iopub.execute_input": "2022-07-06T06:16:05.101249Z",
     "iopub.status.busy": "2022-07-06T06:16:05.100866Z",
     "iopub.status.idle": "2022-07-06T06:16:05.105780Z",
     "shell.execute_reply": "2022-07-06T06:16:05.105128Z"
    },
    "papermill": {
     "duration": 0.018504,
     "end_time": "2022-07-06T06:16:05.107878",
     "exception": false,
     "start_time": "2022-07-06T06:16:05.089374",
     "status": "completed"
    },
    "tags": []
   },
   "outputs": [],
   "source": [
    "X = data.iloc[:, 1:6].values\n",
    "y = data.iloc[:, 0].values"
   ]
  },
  {
   "cell_type": "code",
   "execution_count": 7,
   "id": "980685e9",
   "metadata": {
    "execution": {
     "iopub.execute_input": "2022-07-06T06:16:05.130632Z",
     "iopub.status.busy": "2022-07-06T06:16:05.130284Z",
     "iopub.status.idle": "2022-07-06T06:16:05.135836Z",
     "shell.execute_reply": "2022-07-06T06:16:05.134216Z"
    },
    "papermill": {
     "duration": 0.019329,
     "end_time": "2022-07-06T06:16:05.137728",
     "exception": false,
     "start_time": "2022-07-06T06:16:05.118399",
     "status": "completed"
    },
    "tags": []
   },
   "outputs": [],
   "source": [
    "scaler = StandardScaler()\n",
    "\n",
    "X = scaler.fit_transform(X)"
   ]
  },
  {
   "cell_type": "code",
   "execution_count": 8,
   "id": "c45d0102",
   "metadata": {
    "execution": {
     "iopub.execute_input": "2022-07-06T06:16:05.160466Z",
     "iopub.status.busy": "2022-07-06T06:16:05.160166Z",
     "iopub.status.idle": "2022-07-06T06:16:05.167970Z",
     "shell.execute_reply": "2022-07-06T06:16:05.167259Z"
    },
    "papermill": {
     "duration": 0.021605,
     "end_time": "2022-07-06T06:16:05.170135",
     "exception": false,
     "start_time": "2022-07-06T06:16:05.148530",
     "status": "completed"
    },
    "tags": []
   },
   "outputs": [
    {
     "data": {
      "text/plain": [
       "array([[ 0.40162593, -0.43488167, -3.29772649, -0.06836834],\n",
       "       [-0.28500317,  1.42707942,  0.79600295, -0.65534135],\n",
       "       [-0.44229265, -0.67004288,  0.11371471,  0.07013934],\n",
       "       [ 1.27276769, -0.54908979, -0.56857353, -0.63736367],\n",
       "       [-0.88391313, -0.61704243,  0.79600295,  0.04291867],\n",
       "       [ 0.21106367,  1.0137488 ,  0.11371471, -1.90138285],\n",
       "       [-0.31525115,  1.55208007,  0.11371471,  2.96309181],\n",
       "       [-1.61288939, -0.66973091,  1.13714707,  0.02532189],\n",
       "       [ 3.0241256 , -0.20493103,  0.11371471,  0.07349401],\n",
       "       [ 0.14754291, -0.6619474 , -1.59200589,  0.09068156],\n",
       "       [ 1.72648735, -0.5588629 , -0.90971765,  0.00396988],\n",
       "       [-0.49976381, -0.63251352, -1.25086177, -0.02723754],\n",
       "       [ 1.6690162 , -0.11740828,  0.11371471,  0.30817384],\n",
       "       [ 0.78577524, -0.21062521,  0.45485883,  0.20672784],\n",
       "       [-0.60563173, -0.43554355, -0.90971765, -0.1246708 ],\n",
       "       [ 0.026551  ,  3.89511916,  0.11371471,  3.1898644 ],\n",
       "       [-0.70545006, -0.66953298,  0.11371471, -0.0218024 ],\n",
       "       [-0.1004905 ,  0.84276347,  0.11371471, -0.43692868],\n",
       "       [-0.39994548, -0.5329799 ,  0.11371471, -0.74786373],\n",
       "       [-0.22753201, -0.62255205,  0.11371471,  0.1341568 ],\n",
       "       [-0.56933416,  0.16121935,  0.11371471, -0.73753512],\n",
       "       [-1.65221176, -0.51166534,  2.50172354,  0.2711556 ],\n",
       "       [ 0.62848576, -0.65156644,  0.11371471, -1.22876825],\n",
       "       [-0.08536652, -0.28834993,  0.79600295,  0.1667328 ],\n",
       "       [-0.05511854,  0.34600086,  0.11371471, -0.46314849],\n",
       "       [-0.80526839,  0.33678493,  0.45485883, -0.52443502],\n",
       "       [-0.6479789 , -0.53552984,  0.11371471,  0.02841778]])"
      ]
     },
     "execution_count": 8,
     "metadata": {},
     "output_type": "execute_result"
    }
   ],
   "source": [
    "X"
   ]
  },
  {
   "cell_type": "code",
   "execution_count": 9,
   "id": "97c8d794",
   "metadata": {
    "execution": {
     "iopub.execute_input": "2022-07-06T06:16:05.192860Z",
     "iopub.status.busy": "2022-07-06T06:16:05.192364Z",
     "iopub.status.idle": "2022-07-06T06:16:05.213346Z",
     "shell.execute_reply": "2022-07-06T06:16:05.212495Z"
    },
    "papermill": {
     "duration": 0.034901,
     "end_time": "2022-07-06T06:16:05.215369",
     "exception": false,
     "start_time": "2022-07-06T06:16:05.180468",
     "status": "completed"
    },
    "tags": []
   },
   "outputs": [],
   "source": [
    "pca = PCA(n_components=3)\n",
    "\n",
    "principal_components = pca.fit_transform(X)\n",
    "\n",
    "new_X = pd.DataFrame(data = principal_components, columns=['PC1','PC2','PC3'])"
   ]
  },
  {
   "cell_type": "code",
   "execution_count": 10,
   "id": "f2bd261e",
   "metadata": {
    "execution": {
     "iopub.execute_input": "2022-07-06T06:16:05.230080Z",
     "iopub.status.busy": "2022-07-06T06:16:05.229549Z",
     "iopub.status.idle": "2022-07-06T06:16:05.240013Z",
     "shell.execute_reply": "2022-07-06T06:16:05.239039Z"
    },
    "papermill": {
     "duration": 0.019913,
     "end_time": "2022-07-06T06:16:05.241931",
     "exception": false,
     "start_time": "2022-07-06T06:16:05.222018",
     "status": "completed"
    },
    "tags": []
   },
   "outputs": [
    {
     "data": {
      "text/html": [
       "<div>\n",
       "<style scoped>\n",
       "    .dataframe tbody tr th:only-of-type {\n",
       "        vertical-align: middle;\n",
       "    }\n",
       "\n",
       "    .dataframe tbody tr th {\n",
       "        vertical-align: top;\n",
       "    }\n",
       "\n",
       "    .dataframe thead th {\n",
       "        text-align: right;\n",
       "    }\n",
       "</style>\n",
       "<table border=\"1\" class=\"dataframe\">\n",
       "  <thead>\n",
       "    <tr style=\"text-align: right;\">\n",
       "      <th></th>\n",
       "      <th>PC1</th>\n",
       "      <th>PC2</th>\n",
       "      <th>PC3</th>\n",
       "    </tr>\n",
       "  </thead>\n",
       "  <tbody>\n",
       "    <tr>\n",
       "      <th>0</th>\n",
       "      <td>-1.462940</td>\n",
       "      <td>-2.214528</td>\n",
       "      <td>-1.995307</td>\n",
       "    </tr>\n",
       "    <tr>\n",
       "      <th>1</th>\n",
       "      <td>0.835415</td>\n",
       "      <td>0.516378</td>\n",
       "      <td>0.765328</td>\n",
       "    </tr>\n",
       "    <tr>\n",
       "      <th>2</th>\n",
       "      <td>-0.260960</td>\n",
       "      <td>0.521831</td>\n",
       "      <td>-0.354865</td>\n",
       "    </tr>\n",
       "    <tr>\n",
       "      <th>3</th>\n",
       "      <td>-1.239581</td>\n",
       "      <td>-0.897718</td>\n",
       "      <td>0.549561</td>\n",
       "    </tr>\n",
       "    <tr>\n",
       "      <th>4</th>\n",
       "      <td>0.071755</td>\n",
       "      <td>1.244035</td>\n",
       "      <td>-0.177496</td>\n",
       "    </tr>\n",
       "  </tbody>\n",
       "</table>\n",
       "</div>"
      ],
      "text/plain": [
       "        PC1       PC2       PC3\n",
       "0 -1.462940 -2.214528 -1.995307\n",
       "1  0.835415  0.516378  0.765328\n",
       "2 -0.260960  0.521831 -0.354865\n",
       "3 -1.239581 -0.897718  0.549561\n",
       "4  0.071755  1.244035 -0.177496"
      ]
     },
     "execution_count": 10,
     "metadata": {},
     "output_type": "execute_result"
    }
   ],
   "source": [
    "new_X.head()"
   ]
  },
  {
   "cell_type": "code",
   "execution_count": 11,
   "id": "13dcc60b",
   "metadata": {
    "execution": {
     "iopub.execute_input": "2022-07-06T06:16:05.264504Z",
     "iopub.status.busy": "2022-07-06T06:16:05.263924Z",
     "iopub.status.idle": "2022-07-06T06:16:05.434276Z",
     "shell.execute_reply": "2022-07-06T06:16:05.433347Z"
    },
    "papermill": {
     "duration": 0.184005,
     "end_time": "2022-07-06T06:16:05.436276",
     "exception": false,
     "start_time": "2022-07-06T06:16:05.252271",
     "status": "completed"
    },
    "tags": []
   },
   "outputs": [
    {
     "data": {
      "image/png": "[encoded data removed]",
      "text/plain": [
       "<Figure size 432x288 with 1 Axes>"
      ]
     },
     "metadata": {
      "needs_background": "light"
     },
     "output_type": "display_data"
    }
   ],
   "source": [
    "per_var = np.round(pca.explained_variance_ratio_ * 100, decimals =1)\n",
    "\n",
    "label = ['PC' + str(x) for x in range (1, len(per_var)+1)]\n",
    "\n",
    "plt.bar (x=range(1, len(per_var)+1),height=per_var,tick_label=label)\n",
    "plt.ylabel('percentage of explained variance')\n",
    "plt.xlabel('principal components')\n",
    "plt.title('scree plot')\n",
    "plt.show()"
   ]
  },
  {
   "cell_type": "code",
   "execution_count": 12,
   "id": "7f698ab0",
   "metadata": {
    "execution": {
     "iopub.execute_input": "2022-07-06T06:16:05.458831Z",
     "iopub.status.busy": "2022-07-06T06:16:05.458517Z",
     "iopub.status.idle": "2022-07-06T06:16:05.477904Z",
     "shell.execute_reply": "2022-07-06T06:16:05.476826Z"
    },
    "papermill": {
     "duration": 0.032893,
     "end_time": "2022-07-06T06:16:05.479787",
     "exception": false,
     "start_time": "2022-07-06T06:16:05.446894",
     "status": "completed"
    },
    "tags": []
   },
   "outputs": [
    {
     "data": {
      "text/html": [
       "<div>\n",
       "<style scoped>\n",
       "    .dataframe tbody tr th:only-of-type {\n",
       "        vertical-align: middle;\n",
       "    }\n",
       "\n",
       "    .dataframe tbody tr th {\n",
       "        vertical-align: top;\n",
       "    }\n",
       "\n",
       "    .dataframe thead th {\n",
       "        text-align: right;\n",
       "    }\n",
       "</style>\n",
       "<table border=\"1\" class=\"dataframe\">\n",
       "  <thead>\n",
       "    <tr style=\"text-align: right;\">\n",
       "      <th></th>\n",
       "      <th>PC1</th>\n",
       "      <th>PC2</th>\n",
       "      <th>PC3</th>\n",
       "    </tr>\n",
       "  </thead>\n",
       "  <tbody>\n",
       "    <tr>\n",
       "      <th>count</th>\n",
       "      <td>2.700000e+01</td>\n",
       "      <td>2.700000e+01</td>\n",
       "      <td>2.700000e+01</td>\n",
       "    </tr>\n",
       "    <tr>\n",
       "      <th>mean</th>\n",
       "      <td>3.186751e-17</td>\n",
       "      <td>-9.046262e-17</td>\n",
       "      <td>-2.878356e-17</td>\n",
       "    </tr>\n",
       "    <tr>\n",
       "      <th>std</th>\n",
       "      <td>1.280982e+00</td>\n",
       "      <td>1.166128e+00</td>\n",
       "      <td>8.335956e-01</td>\n",
       "    </tr>\n",
       "    <tr>\n",
       "      <th>min</th>\n",
       "      <td>-1.462940e+00</td>\n",
       "      <td>-2.214528e+00</td>\n",
       "      <td>-1.995307e+00</td>\n",
       "    </tr>\n",
       "    <tr>\n",
       "      <th>25%</th>\n",
       "      <td>-7.116263e-01</td>\n",
       "      <td>-9.264977e-01</td>\n",
       "      <td>-4.500605e-01</td>\n",
       "    </tr>\n",
       "    <tr>\n",
       "      <th>50%</th>\n",
       "      <td>-2.205191e-01</td>\n",
       "      <td>1.621866e-01</td>\n",
       "      <td>-7.832872e-02</td>\n",
       "    </tr>\n",
       "    <tr>\n",
       "      <th>75%</th>\n",
       "      <td>1.990381e-01</td>\n",
       "      <td>6.324604e-01</td>\n",
       "      <td>4.999227e-01</td>\n",
       "    </tr>\n",
       "    <tr>\n",
       "      <th>max</th>\n",
       "      <td>4.651899e+00</td>\n",
       "      <td>2.744618e+00</td>\n",
       "      <td>2.047323e+00</td>\n",
       "    </tr>\n",
       "  </tbody>\n",
       "</table>\n",
       "</div>"
      ],
      "text/plain": [
       "                PC1           PC2           PC3\n",
       "count  2.700000e+01  2.700000e+01  2.700000e+01\n",
       "mean   3.186751e-17 -9.046262e-17 -2.878356e-17\n",
       "std    1.280982e+00  1.166128e+00  8.335956e-01\n",
       "min   -1.462940e+00 -2.214528e+00 -1.995307e+00\n",
       "25%   -7.116263e-01 -9.264977e-01 -4.500605e-01\n",
       "50%   -2.205191e-01  1.621866e-01 -7.832872e-02\n",
       "75%    1.990381e-01  6.324604e-01  4.999227e-01\n",
       "max    4.651899e+00  2.744618e+00  2.047323e+00"
      ]
     },
     "execution_count": 12,
     "metadata": {},
     "output_type": "execute_result"
    }
   ],
   "source": [
    "new_X.describe()"
   ]
  },
  {
   "cell_type": "code",
   "execution_count": 13,
   "id": "5e83f205",
   "metadata": {
    "execution": {
     "iopub.execute_input": "2022-07-06T06:16:05.503250Z",
     "iopub.status.busy": "2022-07-06T06:16:05.502948Z",
     "iopub.status.idle": "2022-07-06T06:16:05.514826Z",
     "shell.execute_reply": "2022-07-06T06:16:05.513743Z"
    },
    "papermill": {
     "duration": 0.026325,
     "end_time": "2022-07-06T06:16:05.517350",
     "exception": false,
     "start_time": "2022-07-06T06:16:05.491025",
     "status": "completed"
    },
    "tags": []
   },
   "outputs": [
    {
     "data": {
      "text/html": [
       "<div>\n",
       "<style scoped>\n",
       "    .dataframe tbody tr th:only-of-type {\n",
       "        vertical-align: middle;\n",
       "    }\n",
       "\n",
       "    .dataframe tbody tr th {\n",
       "        vertical-align: top;\n",
       "    }\n",
       "\n",
       "    .dataframe thead th {\n",
       "        text-align: right;\n",
       "    }\n",
       "</style>\n",
       "<table border=\"1\" class=\"dataframe\">\n",
       "  <thead>\n",
       "    <tr style=\"text-align: right;\">\n",
       "      <th></th>\n",
       "      <th>PC1</th>\n",
       "      <th>PC2</th>\n",
       "      <th>PC3</th>\n",
       "    </tr>\n",
       "  </thead>\n",
       "  <tbody>\n",
       "    <tr>\n",
       "      <th>0</th>\n",
       "      <td>-1.462940</td>\n",
       "      <td>-2.214528</td>\n",
       "      <td>-1.995307</td>\n",
       "    </tr>\n",
       "    <tr>\n",
       "      <th>1</th>\n",
       "      <td>0.835415</td>\n",
       "      <td>0.516378</td>\n",
       "      <td>0.765328</td>\n",
       "    </tr>\n",
       "    <tr>\n",
       "      <th>2</th>\n",
       "      <td>-0.260960</td>\n",
       "      <td>0.521831</td>\n",
       "      <td>-0.354865</td>\n",
       "    </tr>\n",
       "    <tr>\n",
       "      <th>3</th>\n",
       "      <td>-1.239581</td>\n",
       "      <td>-0.897718</td>\n",
       "      <td>0.549561</td>\n",
       "    </tr>\n",
       "    <tr>\n",
       "      <th>4</th>\n",
       "      <td>0.071755</td>\n",
       "      <td>1.244035</td>\n",
       "      <td>-0.177496</td>\n",
       "    </tr>\n",
       "    <tr>\n",
       "      <th>5</th>\n",
       "      <td>-0.566624</td>\n",
       "      <td>0.212088</td>\n",
       "      <td>0.906143</td>\n",
       "    </tr>\n",
       "    <tr>\n",
       "      <th>6</th>\n",
       "      <td>3.037693</td>\n",
       "      <td>-0.955277</td>\n",
       "      <td>-0.667491</td>\n",
       "    </tr>\n",
       "    <tr>\n",
       "      <th>7</th>\n",
       "      <td>0.298184</td>\n",
       "      <td>1.970612</td>\n",
       "      <td>-0.441921</td>\n",
       "    </tr>\n",
       "    <tr>\n",
       "      <th>8</th>\n",
       "      <td>-0.735593</td>\n",
       "      <td>-1.945299</td>\n",
       "      <td>2.047323</td>\n",
       "    </tr>\n",
       "    <tr>\n",
       "      <th>9</th>\n",
       "      <td>-0.914336</td>\n",
       "      <td>-0.957727</td>\n",
       "      <td>-1.105750</td>\n",
       "    </tr>\n",
       "    <tr>\n",
       "      <th>10</th>\n",
       "      <td>-1.043621</td>\n",
       "      <td>-1.599748</td>\n",
       "      <td>0.450285</td>\n",
       "    </tr>\n",
       "    <tr>\n",
       "      <th>11</th>\n",
       "      <td>-0.716754</td>\n",
       "      <td>-0.278799</td>\n",
       "      <td>-1.274174</td>\n",
       "    </tr>\n",
       "    <tr>\n",
       "      <th>12</th>\n",
       "      <td>-0.220519</td>\n",
       "      <td>-1.116765</td>\n",
       "      <td>1.091007</td>\n",
       "    </tr>\n",
       "    <tr>\n",
       "      <th>13</th>\n",
       "      <td>-0.039908</td>\n",
       "      <td>-0.251481</td>\n",
       "      <td>0.738863</td>\n",
       "    </tr>\n",
       "    <tr>\n",
       "      <th>14</th>\n",
       "      <td>-0.517872</td>\n",
       "      <td>-0.015104</td>\n",
       "      <td>-1.056398</td>\n",
       "    </tr>\n",
       "    <tr>\n",
       "      <th>15</th>\n",
       "      <td>4.651899</td>\n",
       "      <td>-1.848682</td>\n",
       "      <td>-0.095198</td>\n",
       "    </tr>\n",
       "    <tr>\n",
       "      <th>16</th>\n",
       "      <td>-0.260299</td>\n",
       "      <td>0.726130</td>\n",
       "      <td>-0.506281</td>\n",
       "    </tr>\n",
       "    <tr>\n",
       "      <th>17</th>\n",
       "      <td>0.333378</td>\n",
       "      <td>0.049243</td>\n",
       "      <td>0.272306</td>\n",
       "    </tr>\n",
       "    <tr>\n",
       "      <th>18</th>\n",
       "      <td>-0.706498</td>\n",
       "      <td>0.691377</td>\n",
       "      <td>-0.081883</td>\n",
       "    </tr>\n",
       "    <tr>\n",
       "      <th>19</th>\n",
       "      <td>-0.236986</td>\n",
       "      <td>0.346032</td>\n",
       "      <td>-0.220049</td>\n",
       "    </tr>\n",
       "    <tr>\n",
       "      <th>20</th>\n",
       "      <td>-0.203645</td>\n",
       "      <td>0.626187</td>\n",
       "      <td>-0.078329</td>\n",
       "    </tr>\n",
       "    <tr>\n",
       "      <th>21</th>\n",
       "      <td>1.000410</td>\n",
       "      <td>2.744618</td>\n",
       "      <td>0.406199</td>\n",
       "    </tr>\n",
       "    <tr>\n",
       "      <th>22</th>\n",
       "      <td>-1.326659</td>\n",
       "      <td>0.162187</td>\n",
       "      <td>0.716674</td>\n",
       "    </tr>\n",
       "    <tr>\n",
       "      <th>23</th>\n",
       "      <td>0.187730</td>\n",
       "      <td>0.584143</td>\n",
       "      <td>0.380902</td>\n",
       "    </tr>\n",
       "    <tr>\n",
       "      <th>24</th>\n",
       "      <td>-0.021432</td>\n",
       "      <td>0.152622</td>\n",
       "      <td>0.224029</td>\n",
       "    </tr>\n",
       "    <tr>\n",
       "      <th>25</th>\n",
       "      <td>0.210346</td>\n",
       "      <td>0.894910</td>\n",
       "      <td>-0.035278</td>\n",
       "    </tr>\n",
       "    <tr>\n",
       "      <th>26</th>\n",
       "      <td>-0.152582</td>\n",
       "      <td>0.638734</td>\n",
       "      <td>-0.458200</td>\n",
       "    </tr>\n",
       "  </tbody>\n",
       "</table>\n",
       "</div>"
      ],
      "text/plain": [
       "         PC1       PC2       PC3\n",
       "0  -1.462940 -2.214528 -1.995307\n",
       "1   0.835415  0.516378  0.765328\n",
       "2  -0.260960  0.521831 -0.354865\n",
       "3  -1.239581 -0.897718  0.549561\n",
       "4   0.071755  1.244035 -0.177496\n",
       "5  -0.566624  0.212088  0.906143\n",
       "6   3.037693 -0.955277 -0.667491\n",
       "7   0.298184  1.970612 -0.441921\n",
       "8  -0.735593 -1.945299  2.047323\n",
       "9  -0.914336 -0.957727 -1.105750\n",
       "10 -1.043621 -1.599748  0.450285\n",
       "11 -0.716754 -0.278799 -1.274174\n",
       "12 -0.220519 -1.116765  1.091007\n",
       "13 -0.039908 -0.251481  0.738863\n",
       "14 -0.517872 -0.015104 -1.056398\n",
       "15  4.651899 -1.848682 -0.095198\n",
       "16 -0.260299  0.726130 -0.506281\n",
       "17  0.333378  0.049243  0.272306\n",
       "18 -0.706498  0.691377 -0.081883\n",
       "19 -0.236986  0.346032 -0.220049\n",
       "20 -0.203645  0.626187 -0.078329\n",
       "21  1.000410  2.744618  0.406199\n",
       "22 -1.326659  0.162187  0.716674\n",
       "23  0.187730  0.584143  0.380902\n",
       "24 -0.021432  0.152622  0.224029\n",
       "25  0.210346  0.894910 -0.035278\n",
       "26 -0.152582  0.638734 -0.458200"
      ]
     },
     "metadata": {},
     "output_type": "display_data"
    }
   ],
   "source": [
    "display(new_X)"
   ]
  },
  {
   "cell_type": "code",
   "execution_count": 14,
   "id": "ab1aaf70",
   "metadata": {
    "execution": {
     "iopub.execute_input": "2022-07-06T06:16:05.541401Z",
     "iopub.status.busy": "2022-07-06T06:16:05.541003Z",
     "iopub.status.idle": "2022-07-06T06:16:06.223660Z",
     "shell.execute_reply": "2022-07-06T06:16:06.222515Z"
    },
    "papermill": {
     "duration": 0.697609,
     "end_time": "2022-07-06T06:16:06.226431",
     "exception": false,
     "start_time": "2022-07-06T06:16:05.528822",
     "status": "completed"
    },
    "tags": []
   },
   "outputs": [
    {
     "data": {
      "text/plain": [
       "<Figure size 1440x1440 with 0 Axes>"
      ]
     },
     "metadata": {},
     "output_type": "display_data"
    },
    {
     "data": {
      "image/png": "[encoded data removed]",
      "text/plain": [
       "<Figure size 360x360 with 6 Axes>"
      ]
     },
     "metadata": {
      "needs_background": "light"
     },
     "output_type": "display_data"
    }
   ],
   "source": [
    "plt.figure(figsize=(20, 20))\n",
    "sns.pairplot(new_X, vars = new_X.columns[1:6]);"
   ]
  },
  {
   "cell_type": "code",
   "execution_count": 15,
   "id": "a04e7780",
   "metadata": {
    "execution": {
     "iopub.execute_input": "2022-07-06T06:16:06.252378Z",
     "iopub.status.busy": "2022-07-06T06:16:06.252027Z",
     "iopub.status.idle": "2022-07-06T06:16:06.755463Z",
     "shell.execute_reply": "2022-07-06T06:16:06.754517Z"
    },
    "papermill": {
     "duration": 0.518488,
     "end_time": "2022-07-06T06:16:06.757032",
     "exception": false,
     "start_time": "2022-07-06T06:16:06.238544",
     "status": "completed"
    },
    "tags": []
   },
   "outputs": [
    {
     "data": {
      "text/plain": [
       "[<matplotlib.lines.Line2D at 0x7fc0c88a9110>]"
      ]
     },
     "execution_count": 15,
     "metadata": {},
     "output_type": "execute_result"
    },
    {
     "data": {
      "image/png": "[encoded data removed]",
      "text/plain": [
       "<Figure size 864x432 with 1 Axes>"
      ]
     },
     "metadata": {
      "needs_background": "light"
     },
     "output_type": "display_data"
    }
   ],
   "source": [
    "from sklearn.cluster import KMeans\n",
    "inertia = []\n",
    "\n",
    "for i in range(1, 8):\n",
    "  kmeans = KMeans(n_clusters=i, init='k-means++', max_iter=300, n_init=10, random_state=0)\n",
    "  kmeans.fit(new_X.values)\n",
    "  inertia.append(kmeans.inertia_)\n",
    "\n",
    "plt.figure(figsize=(12, 6))\n",
    "plt.plot(inertia)"
   ]
  },
  {
   "cell_type": "code",
   "execution_count": 16,
   "id": "75f585f7",
   "metadata": {
    "execution": {
     "iopub.execute_input": "2022-07-06T06:16:06.775012Z",
     "iopub.status.busy": "2022-07-06T06:16:06.774481Z",
     "iopub.status.idle": "2022-07-06T06:16:06.819629Z",
     "shell.execute_reply": "2022-07-06T06:16:06.818771Z"
    },
    "papermill": {
     "duration": 0.059459,
     "end_time": "2022-07-06T06:16:06.824252",
     "exception": false,
     "start_time": "2022-07-06T06:16:06.764793",
     "status": "completed"
    },
    "tags": []
   },
   "outputs": [],
   "source": [
    "from sklearn.cluster import KMeans\n",
    "kmeans = KMeans(n_clusters=4, init='k-means++', max_iter=300, n_init=12, random_state=0)\n",
    "label = kmeans.fit(new_X.values)"
   ]
  },
  {
   "cell_type": "code",
   "execution_count": 17,
   "id": "5620728c",
   "metadata": {
    "execution": {
     "iopub.execute_input": "2022-07-06T06:16:06.854158Z",
     "iopub.status.busy": "2022-07-06T06:16:06.853838Z",
     "iopub.status.idle": "2022-07-06T06:16:06.858480Z",
     "shell.execute_reply": "2022-07-06T06:16:06.857819Z"
    },
    "papermill": {
     "duration": 0.019101,
     "end_time": "2022-07-06T06:16:06.860314",
     "exception": false,
     "start_time": "2022-07-06T06:16:06.841213",
     "status": "completed"
    },
    "tags": []
   },
   "outputs": [],
   "source": [
    "new_X['target'] = y\n",
    "new_X['fit'] = kmeans.labels_"
   ]
  },
  {
   "cell_type": "code",
   "execution_count": 18,
   "id": "138c0ee7",
   "metadata": {
    "execution": {
     "iopub.execute_input": "2022-07-06T06:16:06.888528Z",
     "iopub.status.busy": "2022-07-06T06:16:06.888172Z",
     "iopub.status.idle": "2022-07-06T06:16:07.464280Z",
     "shell.execute_reply": "2022-07-06T06:16:07.463556Z"
    },
    "papermill": {
     "duration": 0.595503,
     "end_time": "2022-07-06T06:16:07.466113",
     "exception": false,
     "start_time": "2022-07-06T06:16:06.870610",
     "status": "completed"
    },
    "tags": []
   },
   "outputs": [
    {
     "data": {
      "image/png": "[encoded data removed]",
      "text/plain": [
       "<Figure size 576x720 with 1 Axes>"
      ]
     },
     "metadata": {
      "needs_background": "light"
     },
     "output_type": "display_data"
    }
   ],
   "source": [
    "plt.rcParams[\"figure.figsize\"] = (8,10)\n",
    "sns.scatterplot(x='PC1', y='PC2', hue=new_X.target.to_list(), data=new_X);"
   ]
  },
  {
   "cell_type": "code",
   "execution_count": 19,
   "id": "428812c1",
   "metadata": {
    "execution": {
     "iopub.execute_input": "2022-07-06T06:16:07.492926Z",
     "iopub.status.busy": "2022-07-06T06:16:07.492442Z",
     "iopub.status.idle": "2022-07-06T06:16:07.504201Z",
     "shell.execute_reply": "2022-07-06T06:16:07.503551Z"
    },
    "papermill": {
     "duration": 0.027232,
     "end_time": "2022-07-06T06:16:07.505717",
     "exception": false,
     "start_time": "2022-07-06T06:16:07.478485",
     "status": "completed"
    },
    "tags": []
   },
   "outputs": [
    {
     "data": {
      "text/html": [
       "<div>\n",
       "<style scoped>\n",
       "    .dataframe tbody tr th:only-of-type {\n",
       "        vertical-align: middle;\n",
       "    }\n",
       "\n",
       "    .dataframe tbody tr th {\n",
       "        vertical-align: top;\n",
       "    }\n",
       "\n",
       "    .dataframe thead th {\n",
       "        text-align: right;\n",
       "    }\n",
       "</style>\n",
       "<table border=\"1\" class=\"dataframe\">\n",
       "  <thead>\n",
       "    <tr style=\"text-align: right;\">\n",
       "      <th></th>\n",
       "      <th>PC1</th>\n",
       "      <th>PC2</th>\n",
       "      <th>PC3</th>\n",
       "      <th>target</th>\n",
       "      <th>fit</th>\n",
       "    </tr>\n",
       "  </thead>\n",
       "  <tbody>\n",
       "    <tr>\n",
       "      <th>0</th>\n",
       "      <td>-1.462940</td>\n",
       "      <td>-2.214528</td>\n",
       "      <td>-1.995307</td>\n",
       "      <td>AGRO</td>\n",
       "      <td>3</td>\n",
       "    </tr>\n",
       "    <tr>\n",
       "      <th>1</th>\n",
       "      <td>0.835415</td>\n",
       "      <td>0.516378</td>\n",
       "      <td>0.765328</td>\n",
       "      <td>BBCA</td>\n",
       "      <td>2</td>\n",
       "    </tr>\n",
       "    <tr>\n",
       "      <th>2</th>\n",
       "      <td>-0.260960</td>\n",
       "      <td>0.521831</td>\n",
       "      <td>-0.354865</td>\n",
       "      <td>BBHI</td>\n",
       "      <td>2</td>\n",
       "    </tr>\n",
       "    <tr>\n",
       "      <th>3</th>\n",
       "      <td>-1.239581</td>\n",
       "      <td>-0.897718</td>\n",
       "      <td>0.549561</td>\n",
       "      <td>BBKP</td>\n",
       "      <td>0</td>\n",
       "    </tr>\n",
       "    <tr>\n",
       "      <th>4</th>\n",
       "      <td>0.071755</td>\n",
       "      <td>1.244035</td>\n",
       "      <td>-0.177496</td>\n",
       "      <td>BBMD</td>\n",
       "      <td>2</td>\n",
       "    </tr>\n",
       "    <tr>\n",
       "      <th>5</th>\n",
       "      <td>-0.566624</td>\n",
       "      <td>0.212088</td>\n",
       "      <td>0.906143</td>\n",
       "      <td>BBNI</td>\n",
       "      <td>0</td>\n",
       "    </tr>\n",
       "    <tr>\n",
       "      <th>6</th>\n",
       "      <td>3.037693</td>\n",
       "      <td>-0.955277</td>\n",
       "      <td>-0.667491</td>\n",
       "      <td>BBRI</td>\n",
       "      <td>1</td>\n",
       "    </tr>\n",
       "    <tr>\n",
       "      <th>7</th>\n",
       "      <td>0.298184</td>\n",
       "      <td>1.970612</td>\n",
       "      <td>-0.441921</td>\n",
       "      <td>BBSI</td>\n",
       "      <td>2</td>\n",
       "    </tr>\n",
       "    <tr>\n",
       "      <th>8</th>\n",
       "      <td>-0.735593</td>\n",
       "      <td>-1.945299</td>\n",
       "      <td>2.047323</td>\n",
       "      <td>BBTN</td>\n",
       "      <td>0</td>\n",
       "    </tr>\n",
       "    <tr>\n",
       "      <th>9</th>\n",
       "      <td>-0.914336</td>\n",
       "      <td>-0.957727</td>\n",
       "      <td>-1.105750</td>\n",
       "      <td>BBYB</td>\n",
       "      <td>3</td>\n",
       "    </tr>\n",
       "    <tr>\n",
       "      <th>10</th>\n",
       "      <td>-1.043621</td>\n",
       "      <td>-1.599748</td>\n",
       "      <td>0.450285</td>\n",
       "      <td>BCIC</td>\n",
       "      <td>0</td>\n",
       "    </tr>\n",
       "    <tr>\n",
       "      <th>11</th>\n",
       "      <td>-0.716754</td>\n",
       "      <td>-0.278799</td>\n",
       "      <td>-1.274174</td>\n",
       "      <td>BEKS</td>\n",
       "      <td>3</td>\n",
       "    </tr>\n",
       "    <tr>\n",
       "      <th>12</th>\n",
       "      <td>-0.220519</td>\n",
       "      <td>-1.116765</td>\n",
       "      <td>1.091007</td>\n",
       "      <td>BJBR</td>\n",
       "      <td>0</td>\n",
       "    </tr>\n",
       "    <tr>\n",
       "      <th>13</th>\n",
       "      <td>-0.039908</td>\n",
       "      <td>-0.251481</td>\n",
       "      <td>0.738863</td>\n",
       "      <td>BJTM</td>\n",
       "      <td>0</td>\n",
       "    </tr>\n",
       "    <tr>\n",
       "      <th>14</th>\n",
       "      <td>-0.517872</td>\n",
       "      <td>-0.015104</td>\n",
       "      <td>-1.056398</td>\n",
       "      <td>BKSW</td>\n",
       "      <td>3</td>\n",
       "    </tr>\n",
       "    <tr>\n",
       "      <th>15</th>\n",
       "      <td>4.651899</td>\n",
       "      <td>-1.848682</td>\n",
       "      <td>-0.095198</td>\n",
       "      <td>BMRI</td>\n",
       "      <td>1</td>\n",
       "    </tr>\n",
       "    <tr>\n",
       "      <th>16</th>\n",
       "      <td>-0.260299</td>\n",
       "      <td>0.726130</td>\n",
       "      <td>-0.506281</td>\n",
       "      <td>BNBA</td>\n",
       "      <td>2</td>\n",
       "    </tr>\n",
       "    <tr>\n",
       "      <th>17</th>\n",
       "      <td>0.333378</td>\n",
       "      <td>0.049243</td>\n",
       "      <td>0.272306</td>\n",
       "      <td>BNGA</td>\n",
       "      <td>2</td>\n",
       "    </tr>\n",
       "    <tr>\n",
       "      <th>18</th>\n",
       "      <td>-0.706498</td>\n",
       "      <td>0.691377</td>\n",
       "      <td>-0.081883</td>\n",
       "      <td>BNII</td>\n",
       "      <td>2</td>\n",
       "    </tr>\n",
       "    <tr>\n",
       "      <th>19</th>\n",
       "      <td>-0.236986</td>\n",
       "      <td>0.346032</td>\n",
       "      <td>-0.220049</td>\n",
       "      <td>BNLI</td>\n",
       "      <td>2</td>\n",
       "    </tr>\n",
       "    <tr>\n",
       "      <th>20</th>\n",
       "      <td>-0.203645</td>\n",
       "      <td>0.626187</td>\n",
       "      <td>-0.078329</td>\n",
       "      <td>BTPN</td>\n",
       "      <td>2</td>\n",
       "    </tr>\n",
       "    <tr>\n",
       "      <th>21</th>\n",
       "      <td>1.000410</td>\n",
       "      <td>2.744618</td>\n",
       "      <td>0.406199</td>\n",
       "      <td>BTPS</td>\n",
       "      <td>2</td>\n",
       "    </tr>\n",
       "  </tbody>\n",
       "</table>\n",
       "</div>"
      ],
      "text/plain": [
       "         PC1       PC2       PC3 target  fit\n",
       "0  -1.462940 -2.214528 -1.995307   AGRO    3\n",
       "1   0.835415  0.516378  0.765328   BBCA    2\n",
       "2  -0.260960  0.521831 -0.354865   BBHI    2\n",
       "3  -1.239581 -0.897718  0.549561   BBKP    0\n",
       "4   0.071755  1.244035 -0.177496   BBMD    2\n",
       "5  -0.566624  0.212088  0.906143   BBNI    0\n",
       "6   3.037693 -0.955277 -0.667491   BBRI    1\n",
       "7   0.298184  1.970612 -0.441921   BBSI    2\n",
       "8  -0.735593 -1.945299  2.047323   BBTN    0\n",
       "9  -0.914336 -0.957727 -1.105750   BBYB    3\n",
       "10 -1.043621 -1.599748  0.450285   BCIC    0\n",
       "11 -0.716754 -0.278799 -1.274174   BEKS    3\n",
       "12 -0.220519 -1.116765  1.091007   BJBR    0\n",
       "13 -0.039908 -0.251481  0.738863   BJTM    0\n",
       "14 -0.517872 -0.015104 -1.056398   BKSW    3\n",
       "15  4.651899 -1.848682 -0.095198   BMRI    1\n",
       "16 -0.260299  0.726130 -0.506281   BNBA    2\n",
       "17  0.333378  0.049243  0.272306   BNGA    2\n",
       "18 -0.706498  0.691377 -0.081883   BNII    2\n",
       "19 -0.236986  0.346032 -0.220049   BNLI    2\n",
       "20 -0.203645  0.626187 -0.078329   BTPN    2\n",
       "21  1.000410  2.744618  0.406199   BTPS    2"
      ]
     },
     "execution_count": 19,
     "metadata": {},
     "output_type": "execute_result"
    }
   ],
   "source": [
    "new_X.head(22)"
   ]
  },
  {
   "cell_type": "code",
   "execution_count": 20,
   "id": "977a40f6",
   "metadata": {
    "execution": {
     "iopub.execute_input": "2022-07-06T06:16:07.524563Z",
     "iopub.status.busy": "2022-07-06T06:16:07.523697Z",
     "iopub.status.idle": "2022-07-06T06:16:07.538896Z",
     "shell.execute_reply": "2022-07-06T06:16:07.538068Z"
    },
    "papermill": {
     "duration": 0.025997,
     "end_time": "2022-07-06T06:16:07.540188",
     "exception": false,
     "start_time": "2022-07-06T06:16:07.514191",
     "status": "completed"
    },
    "tags": []
   },
   "outputs": [
    {
     "data": {
      "text/html": [
       "<div>\n",
       "<style scoped>\n",
       "    .dataframe tbody tr th:only-of-type {\n",
       "        vertical-align: middle;\n",
       "    }\n",
       "\n",
       "    .dataframe tbody tr th {\n",
       "        vertical-align: top;\n",
       "    }\n",
       "\n",
       "    .dataframe thead th {\n",
       "        text-align: right;\n",
       "    }\n",
       "</style>\n",
       "<table border=\"1\" class=\"dataframe\">\n",
       "  <thead>\n",
       "    <tr style=\"text-align: right;\">\n",
       "      <th></th>\n",
       "      <th>Kategori</th>\n",
       "      <th>PC1</th>\n",
       "      <th>PC2</th>\n",
       "      <th>PC3</th>\n",
       "      <th>target</th>\n",
       "      <th>fit</th>\n",
       "    </tr>\n",
       "  </thead>\n",
       "  <tbody>\n",
       "    <tr>\n",
       "      <th>0</th>\n",
       "      <td>3</td>\n",
       "      <td>-1.462940</td>\n",
       "      <td>-2.214528</td>\n",
       "      <td>-1.995307</td>\n",
       "      <td>AGRO</td>\n",
       "      <td>3</td>\n",
       "    </tr>\n",
       "    <tr>\n",
       "      <th>1</th>\n",
       "      <td>2</td>\n",
       "      <td>0.835415</td>\n",
       "      <td>0.516378</td>\n",
       "      <td>0.765328</td>\n",
       "      <td>BBCA</td>\n",
       "      <td>2</td>\n",
       "    </tr>\n",
       "    <tr>\n",
       "      <th>2</th>\n",
       "      <td>2</td>\n",
       "      <td>-0.260960</td>\n",
       "      <td>0.521831</td>\n",
       "      <td>-0.354865</td>\n",
       "      <td>BBHI</td>\n",
       "      <td>2</td>\n",
       "    </tr>\n",
       "    <tr>\n",
       "      <th>3</th>\n",
       "      <td>0</td>\n",
       "      <td>-1.239581</td>\n",
       "      <td>-0.897718</td>\n",
       "      <td>0.549561</td>\n",
       "      <td>BBKP</td>\n",
       "      <td>0</td>\n",
       "    </tr>\n",
       "    <tr>\n",
       "      <th>4</th>\n",
       "      <td>2</td>\n",
       "      <td>0.071755</td>\n",
       "      <td>1.244035</td>\n",
       "      <td>-0.177496</td>\n",
       "      <td>BBMD</td>\n",
       "      <td>2</td>\n",
       "    </tr>\n",
       "    <tr>\n",
       "      <th>5</th>\n",
       "      <td>0</td>\n",
       "      <td>-0.566624</td>\n",
       "      <td>0.212088</td>\n",
       "      <td>0.906143</td>\n",
       "      <td>BBNI</td>\n",
       "      <td>0</td>\n",
       "    </tr>\n",
       "    <tr>\n",
       "      <th>6</th>\n",
       "      <td>1</td>\n",
       "      <td>3.037693</td>\n",
       "      <td>-0.955277</td>\n",
       "      <td>-0.667491</td>\n",
       "      <td>BBRI</td>\n",
       "      <td>1</td>\n",
       "    </tr>\n",
       "    <tr>\n",
       "      <th>7</th>\n",
       "      <td>2</td>\n",
       "      <td>0.298184</td>\n",
       "      <td>1.970612</td>\n",
       "      <td>-0.441921</td>\n",
       "      <td>BBSI</td>\n",
       "      <td>2</td>\n",
       "    </tr>\n",
       "    <tr>\n",
       "      <th>8</th>\n",
       "      <td>0</td>\n",
       "      <td>-0.735593</td>\n",
       "      <td>-1.945299</td>\n",
       "      <td>2.047323</td>\n",
       "      <td>BBTN</td>\n",
       "      <td>0</td>\n",
       "    </tr>\n",
       "    <tr>\n",
       "      <th>9</th>\n",
       "      <td>3</td>\n",
       "      <td>-0.914336</td>\n",
       "      <td>-0.957727</td>\n",
       "      <td>-1.105750</td>\n",
       "      <td>BBYB</td>\n",
       "      <td>3</td>\n",
       "    </tr>\n",
       "  </tbody>\n",
       "</table>\n",
       "</div>"
      ],
      "text/plain": [
       "   Kategori       PC1       PC2       PC3 target  fit\n",
       "0         3 -1.462940 -2.214528 -1.995307   AGRO    3\n",
       "1         2  0.835415  0.516378  0.765328   BBCA    2\n",
       "2         2 -0.260960  0.521831 -0.354865   BBHI    2\n",
       "3         0 -1.239581 -0.897718  0.549561   BBKP    0\n",
       "4         2  0.071755  1.244035 -0.177496   BBMD    2\n",
       "5         0 -0.566624  0.212088  0.906143   BBNI    0\n",
       "6         1  3.037693 -0.955277 -0.667491   BBRI    1\n",
       "7         2  0.298184  1.970612 -0.441921   BBSI    2\n",
       "8         0 -0.735593 -1.945299  2.047323   BBTN    0\n",
       "9         3 -0.914336 -0.957727 -1.105750   BBYB    3"
      ]
     },
     "execution_count": 20,
     "metadata": {},
     "output_type": "execute_result"
    }
   ],
   "source": [
    "new_X.insert(0,\"Kategori\",np.nan,True)\n",
    "new_X.loc[new_X['fit'] == 0, 'Kategori'] = 0\n",
    "new_X.loc[new_X['fit'] == 1, 'Kategori'] = 1\n",
    "new_X.loc[new_X['fit'] == 2, 'Kategori'] = 2\n",
    "new_X.loc[new_X['fit'] == 3, 'Kategori'] = 3\n",
    "new_X['Kategori'] = new_X['Kategori'].astype(int)\n",
    "new_X.head(10)"
   ]
  },
  {
   "cell_type": "code",
   "execution_count": 21,
   "id": "6a644453",
   "metadata": {
    "execution": {
     "iopub.execute_input": "2022-07-06T06:16:07.558172Z",
     "iopub.status.busy": "2022-07-06T06:16:07.557642Z",
     "iopub.status.idle": "2022-07-06T06:16:07.567266Z",
     "shell.execute_reply": "2022-07-06T06:16:07.566592Z"
    },
    "papermill": {
     "duration": 0.020736,
     "end_time": "2022-07-06T06:16:07.569217",
     "exception": false,
     "start_time": "2022-07-06T06:16:07.548481",
     "status": "completed"
    },
    "tags": []
   },
   "outputs": [
    {
     "name": "stdout",
     "output_type": "stream",
     "text": [
      "<class 'pandas.core.frame.DataFrame'>\n",
      "RangeIndex: 27 entries, 0 to 26\n",
      "Data columns (total 4 columns):\n",
      " #   Column     Non-Null Count  Dtype  \n",
      "---  ------     --------------  -----  \n",
      " 0   Kategori   27 non-null     int64  \n",
      " 1   PC1 (St.)  27 non-null     float64\n",
      " 2   PC2 (St.)  27 non-null     float64\n",
      " 3   PC3 (St.)  27 non-null     float64\n",
      "dtypes: float64(3), int64(1)\n",
      "memory usage: 992.0 bytes\n"
     ]
    }
   ],
   "source": [
    "new_X.drop([\"fit\",\"target\"], axis=1, inplace=True)\n",
    "new_X.columns = ['Kategori','PC1 (St.)','PC2 (St.)', 'PC3 (St.)']\n",
    "new_X.info()"
   ]
  },
  {
   "cell_type": "code",
   "execution_count": 22,
   "id": "fcd97b51",
   "metadata": {
    "execution": {
     "iopub.execute_input": "2022-07-06T06:16:07.598012Z",
     "iopub.status.busy": "2022-07-06T06:16:07.597295Z",
     "iopub.status.idle": "2022-07-06T06:16:08.108031Z",
     "shell.execute_reply": "2022-07-06T06:16:08.107360Z"
    },
    "papermill": {
     "duration": 0.527673,
     "end_time": "2022-07-06T06:16:08.110197",
     "exception": false,
     "start_time": "2022-07-06T06:16:07.582524",
     "status": "completed"
    },
    "tags": []
   },
   "outputs": [
    {
     "data": {
      "image/png": "[encoded data removed]",
      "text/plain": [
       "<Figure size 576x720 with 1 Axes>"
      ]
     },
     "metadata": {
      "needs_background": "light"
     },
     "output_type": "display_data"
    }
   ],
   "source": [
    "from mpl_toolkits.mplot3d import Axes3D\n",
    "\n",
    "fig = plt.figure()\n",
    "ax = fig.add_subplot(111, projection = '3d')\n",
    "\n",
    "\n",
    "x = new_X['PC1 (St.)']\n",
    "y = new_X['PC2 (St.)']\n",
    "z = new_X['PC3 (St.)']\n",
    "\n",
    "ax.set_xlabel(\"PC1 (St.)\")\n",
    "ax.set_ylabel(\"PC2 (St.)\")\n",
    "ax.set_zlabel(\"PC3 (St.)\")\n",
    "\n",
    "cmap = ListedColormap(sns.color_palette(\"RdYlGn\", 256).as_hex())\n",
    "\n",
    "sc = ax.scatter(x, y, z, s=40, c=new_X['Kategori'], marker='o', cmap=cmap, alpha=1)\n",
    "plt.legend(*sc.legend_elements(), bbox_to_anchor=(1.05, 1), loc=2)\n",
    "\n",
    "plt.show()"
   ]
  },
  {
   "cell_type": "code",
   "execution_count": 23,
   "id": "a49510b3",
   "metadata": {
    "execution": {
     "iopub.execute_input": "2022-07-06T06:16:08.140831Z",
     "iopub.status.busy": "2022-07-06T06:16:08.140237Z",
     "iopub.status.idle": "2022-07-06T06:16:08.376675Z",
     "shell.execute_reply": "2022-07-06T06:16:08.375738Z"
    },
    "papermill": {
     "duration": 0.253748,
     "end_time": "2022-07-06T06:16:08.378559",
     "exception": false,
     "start_time": "2022-07-06T06:16:08.124811",
     "status": "completed"
    },
    "tags": []
   },
   "outputs": [
    {
     "data": {
      "image/png": "[encoded data removed]",
      "text/plain": [
       "<Figure size 576x720 with 1 Axes>"
      ]
     },
     "metadata": {
      "needs_background": "light"
     },
     "output_type": "display_data"
    }
   ],
   "source": [
    "palette = {0:\"tab:red\",\n",
    "           1:\"yellow\", \n",
    "           2:\"lightgreen\",\n",
    "           3:\"darkgreen\"}\n",
    "\n",
    "sns.scatterplot(x='PC1 (St.)', y='PC3 (St.)', \n",
    "                hue='Kategori', data=new_X, s=80,\n",
    "                palette=palette)\n",
    "plt.title(\"PC1 vs PC3 (St.)\", fontsize=18, y=1.05)\n",
    "plt.show()"
   ]
  },
  {
   "cell_type": "code",
   "execution_count": 24,
   "id": "6e606951",
   "metadata": {
    "execution": {
     "iopub.execute_input": "2022-07-06T06:16:08.408821Z",
     "iopub.status.busy": "2022-07-06T06:16:08.408504Z",
     "iopub.status.idle": "2022-07-06T06:16:08.678883Z",
     "shell.execute_reply": "2022-07-06T06:16:08.678303Z"
    },
    "papermill": {
     "duration": 0.28756,
     "end_time": "2022-07-06T06:16:08.680836",
     "exception": false,
     "start_time": "2022-07-06T06:16:08.393276",
     "status": "completed"
    },
    "tags": []
   },
   "outputs": [
    {
     "data": {
      "image/png": "[encoded data removed]",
      "text/plain": [
       "<Figure size 576x720 with 1 Axes>"
      ]
     },
     "metadata": {
      "needs_background": "light"
     },
     "output_type": "display_data"
    }
   ],
   "source": [
    "sns.scatterplot(x='PC2 (St.)', y='PC3 (St.)', \n",
    "                hue='Kategori', data=new_X, s=80,\n",
    "                palette=palette)\n",
    "plt.title(\"PC2 vs PC3 (St.)\", fontsize=18, y=1.05)\n",
    "plt.show()"
   ]
  },
  {
   "cell_type": "code",
   "execution_count": 25,
   "id": "3371b34a",
   "metadata": {
    "execution": {
     "iopub.execute_input": "2022-07-06T06:16:08.712747Z",
     "iopub.status.busy": "2022-07-06T06:16:08.711944Z",
     "iopub.status.idle": "2022-07-06T06:16:08.963038Z",
     "shell.execute_reply": "2022-07-06T06:16:08.962437Z"
    },
    "papermill": {
     "duration": 0.269577,
     "end_time": "2022-07-06T06:16:08.965181",
     "exception": false,
     "start_time": "2022-07-06T06:16:08.695604",
     "status": "completed"
    },
    "tags": []
   },
   "outputs": [
    {
     "data": {
      "image/png": "[encoded data removed]",
      "text/plain": [
       "<Figure size 576x720 with 1 Axes>"
      ]
     },
     "metadata": {
      "needs_background": "light"
     },
     "output_type": "display_data"
    }
   ],
   "source": [
    "sns.scatterplot(x='PC1 (St.)', y='PC2 (St.)', \n",
    "                hue='Kategori', data=new_X, s=80,\n",
    "                palette=palette)\n",
    "plt.title(\"PC1 vs PC2 (St.)\", fontsize=18, y=1.05)\n",
    "plt.show()"
   ]
  },
  {
   "cell_type": "code",
   "execution_count": 26,
   "id": "290eeb2b",
   "metadata": {
    "execution": {
     "iopub.execute_input": "2022-07-06T06:16:08.997291Z",
     "iopub.status.busy": "2022-07-06T06:16:08.996540Z",
     "iopub.status.idle": "2022-07-06T06:16:09.002537Z",
     "shell.execute_reply": "2022-07-06T06:16:09.001972Z"
    },
    "papermill": {
     "duration": 0.023929,
     "end_time": "2022-07-06T06:16:09.004405",
     "exception": false,
     "start_time": "2022-07-06T06:16:08.980476",
     "status": "completed"
    },
    "tags": []
   },
   "outputs": [],
   "source": [
    "new_X.drop (['Kategori'], axis=1, inplace=True)"
   ]
  },
  {
   "cell_type": "code",
   "execution_count": 27,
   "id": "070e9f9e",
   "metadata": {
    "execution": {
     "iopub.execute_input": "2022-07-06T06:16:09.036413Z",
     "iopub.status.busy": "2022-07-06T06:16:09.036088Z",
     "iopub.status.idle": "2022-07-06T06:16:09.068379Z",
     "shell.execute_reply": "2022-07-06T06:16:09.067833Z"
    },
    "papermill": {
     "duration": 0.050428,
     "end_time": "2022-07-06T06:16:09.069979",
     "exception": false,
     "start_time": "2022-07-06T06:16:09.019551",
     "status": "completed"
    },
    "tags": []
   },
   "outputs": [
    {
     "data": {
      "text/html": [
       "<div>\n",
       "<style scoped>\n",
       "    .dataframe tbody tr th:only-of-type {\n",
       "        vertical-align: middle;\n",
       "    }\n",
       "\n",
       "    .dataframe tbody tr th {\n",
       "        vertical-align: top;\n",
       "    }\n",
       "\n",
       "    .dataframe thead th {\n",
       "        text-align: right;\n",
       "    }\n",
       "</style>\n",
       "<table border=\"1\" class=\"dataframe\">\n",
       "  <thead>\n",
       "    <tr style=\"text-align: right;\">\n",
       "      <th></th>\n",
       "      <th>Emitten</th>\n",
       "      <th>DER</th>\n",
       "      <th>Operating Profit Margin</th>\n",
       "      <th>ROA</th>\n",
       "      <th>Sales Growth</th>\n",
       "      <th>PC1 (St.)</th>\n",
       "      <th>PC2 (St.)</th>\n",
       "      <th>PC3 (St.)</th>\n",
       "      <th>Emitten</th>\n",
       "    </tr>\n",
       "  </thead>\n",
       "  <tbody>\n",
       "    <tr>\n",
       "      <th>0</th>\n",
       "      <td>AGRO</td>\n",
       "      <td>7.15</td>\n",
       "      <td>110.512950</td>\n",
       "      <td>-0.09</td>\n",
       "      <td>-185.032137</td>\n",
       "      <td>-1.462940</td>\n",
       "      <td>-2.214528</td>\n",
       "      <td>-1.995307</td>\n",
       "      <td>AGRO</td>\n",
       "    </tr>\n",
       "    <tr>\n",
       "      <th>1</th>\n",
       "      <td>BBCA</td>\n",
       "      <td>4.88</td>\n",
       "      <td>984.562599</td>\n",
       "      <td>0.03</td>\n",
       "      <td>-1485.583000</td>\n",
       "      <td>0.835415</td>\n",
       "      <td>0.516378</td>\n",
       "      <td>0.765328</td>\n",
       "      <td>BBCA</td>\n",
       "    </tr>\n",
       "    <tr>\n",
       "      <th>2</th>\n",
       "      <td>BBHI</td>\n",
       "      <td>4.36</td>\n",
       "      <td>0.122581</td>\n",
       "      <td>0.01</td>\n",
       "      <td>121.858090</td>\n",
       "      <td>-0.260960</td>\n",
       "      <td>0.521831</td>\n",
       "      <td>-0.354865</td>\n",
       "      <td>BBHI</td>\n",
       "    </tr>\n",
       "    <tr>\n",
       "      <th>3</th>\n",
       "      <td>BBKP</td>\n",
       "      <td>10.03</td>\n",
       "      <td>56.900895</td>\n",
       "      <td>-0.01</td>\n",
       "      <td>-1445.750000</td>\n",
       "      <td>-1.239581</td>\n",
       "      <td>-0.897718</td>\n",
       "      <td>0.549561</td>\n",
       "      <td>BBKP</td>\n",
       "    </tr>\n",
       "    <tr>\n",
       "      <th>4</th>\n",
       "      <td>BBMD</td>\n",
       "      <td>2.90</td>\n",
       "      <td>25.002276</td>\n",
       "      <td>0.03</td>\n",
       "      <td>61.545475</td>\n",
       "      <td>0.071755</td>\n",
       "      <td>1.244035</td>\n",
       "      <td>-0.177496</td>\n",
       "      <td>BBMD</td>\n",
       "    </tr>\n",
       "    <tr>\n",
       "      <th>5</th>\n",
       "      <td>BBNI</td>\n",
       "      <td>6.52</td>\n",
       "      <td>790.535193</td>\n",
       "      <td>0.01</td>\n",
       "      <td>-4246.426000</td>\n",
       "      <td>-0.566624</td>\n",
       "      <td>0.212088</td>\n",
       "      <td>0.906143</td>\n",
       "      <td>BBNI</td>\n",
       "    </tr>\n",
       "    <tr>\n",
       "      <th>6</th>\n",
       "      <td>BBRI</td>\n",
       "      <td>4.78</td>\n",
       "      <td>1043.240932</td>\n",
       "      <td>0.01</td>\n",
       "      <td>6531.747000</td>\n",
       "      <td>3.037693</td>\n",
       "      <td>-0.955277</td>\n",
       "      <td>-0.667491</td>\n",
       "      <td>BBRI</td>\n",
       "    </tr>\n",
       "    <tr>\n",
       "      <th>7</th>\n",
       "      <td>BBSI</td>\n",
       "      <td>0.49</td>\n",
       "      <td>0.269027</td>\n",
       "      <td>0.04</td>\n",
       "      <td>22.556467</td>\n",
       "      <td>0.298184</td>\n",
       "      <td>1.970612</td>\n",
       "      <td>-0.441921</td>\n",
       "      <td>BBSI</td>\n",
       "    </tr>\n",
       "    <tr>\n",
       "      <th>8</th>\n",
       "      <td>BBTN</td>\n",
       "      <td>15.82</td>\n",
       "      <td>218.457356</td>\n",
       "      <td>0.01</td>\n",
       "      <td>129.291000</td>\n",
       "      <td>-0.735593</td>\n",
       "      <td>-1.945299</td>\n",
       "      <td>2.047323</td>\n",
       "      <td>BBTN</td>\n",
       "    </tr>\n",
       "    <tr>\n",
       "      <th>9</th>\n",
       "      <td>BBYB</td>\n",
       "      <td>6.31</td>\n",
       "      <td>3.922799</td>\n",
       "      <td>-0.04</td>\n",
       "      <td>167.373288</td>\n",
       "      <td>-0.914336</td>\n",
       "      <td>-0.957727</td>\n",
       "      <td>-1.105750</td>\n",
       "      <td>BBYB</td>\n",
       "    </tr>\n",
       "    <tr>\n",
       "      <th>10</th>\n",
       "      <td>BCIC</td>\n",
       "      <td>11.53</td>\n",
       "      <td>52.313158</td>\n",
       "      <td>-0.02</td>\n",
       "      <td>-24.753000</td>\n",
       "      <td>-1.043621</td>\n",
       "      <td>-1.599748</td>\n",
       "      <td>0.450285</td>\n",
       "      <td>BCIC</td>\n",
       "    </tr>\n",
       "    <tr>\n",
       "      <th>11</th>\n",
       "      <td>BEKS</td>\n",
       "      <td>4.17</td>\n",
       "      <td>17.739772</td>\n",
       "      <td>-0.03</td>\n",
       "      <td>-93.899000</td>\n",
       "      <td>-0.716754</td>\n",
       "      <td>-0.278799</td>\n",
       "      <td>-1.274174</td>\n",
       "      <td>BEKS</td>\n",
       "    </tr>\n",
       "    <tr>\n",
       "      <th>12</th>\n",
       "      <td>BJBR</td>\n",
       "      <td>11.34</td>\n",
       "      <td>259.542651</td>\n",
       "      <td>0.01</td>\n",
       "      <td>649.269000</td>\n",
       "      <td>-0.220519</td>\n",
       "      <td>-1.116765</td>\n",
       "      <td>1.091007</td>\n",
       "      <td>BJBR</td>\n",
       "    </tr>\n",
       "    <tr>\n",
       "      <th>13</th>\n",
       "      <td>BJTM</td>\n",
       "      <td>8.42</td>\n",
       "      <td>215.784366</td>\n",
       "      <td>0.02</td>\n",
       "      <td>424.496000</td>\n",
       "      <td>-0.039908</td>\n",
       "      <td>-0.251481</td>\n",
       "      <td>0.738863</td>\n",
       "      <td>BJTM</td>\n",
       "    </tr>\n",
       "    <tr>\n",
       "      <th>14</th>\n",
       "      <td>BKSW</td>\n",
       "      <td>3.82</td>\n",
       "      <td>110.202249</td>\n",
       "      <td>-0.02</td>\n",
       "      <td>-309.781000</td>\n",
       "      <td>-0.517872</td>\n",
       "      <td>-0.015104</td>\n",
       "      <td>-1.056398</td>\n",
       "      <td>BKSW</td>\n",
       "    </tr>\n",
       "    <tr>\n",
       "      <th>15</th>\n",
       "      <td>BMRI</td>\n",
       "      <td>5.91</td>\n",
       "      <td>2143.120250</td>\n",
       "      <td>0.01</td>\n",
       "      <td>7034.205000</td>\n",
       "      <td>4.651899</td>\n",
       "      <td>-1.848682</td>\n",
       "      <td>-0.095198</td>\n",
       "      <td>BMRI</td>\n",
       "    </tr>\n",
       "    <tr>\n",
       "      <th>16</th>\n",
       "      <td>BNBA</td>\n",
       "      <td>3.49</td>\n",
       "      <td>0.361940</td>\n",
       "      <td>0.01</td>\n",
       "      <td>-81.856421</td>\n",
       "      <td>-0.260299</td>\n",
       "      <td>0.726130</td>\n",
       "      <td>-0.506281</td>\n",
       "      <td>BNBA</td>\n",
       "    </tr>\n",
       "    <tr>\n",
       "      <th>17</th>\n",
       "      <td>BNGA</td>\n",
       "      <td>5.49</td>\n",
       "      <td>710.270537</td>\n",
       "      <td>0.01</td>\n",
       "      <td>-1001.648000</td>\n",
       "      <td>0.333378</td>\n",
       "      <td>0.049243</td>\n",
       "      <td>0.272306</td>\n",
       "      <td>BNGA</td>\n",
       "    </tr>\n",
       "    <tr>\n",
       "      <th>18</th>\n",
       "      <td>BNII</td>\n",
       "      <td>4.50</td>\n",
       "      <td>64.463265</td>\n",
       "      <td>0.01</td>\n",
       "      <td>-1690.584000</td>\n",
       "      <td>-0.706498</td>\n",
       "      <td>0.691377</td>\n",
       "      <td>-0.081883</td>\n",
       "      <td>BNII</td>\n",
       "    </tr>\n",
       "    <tr>\n",
       "      <th>19</th>\n",
       "      <td>BNLI</td>\n",
       "      <td>5.07</td>\n",
       "      <td>22.415928</td>\n",
       "      <td>0.01</td>\n",
       "      <td>263.701000</td>\n",
       "      <td>-0.236986</td>\n",
       "      <td>0.346032</td>\n",
       "      <td>-0.220049</td>\n",
       "      <td>BNLI</td>\n",
       "    </tr>\n",
       "    <tr>\n",
       "      <th>20</th>\n",
       "      <td>BTPN</td>\n",
       "      <td>3.94</td>\n",
       "      <td>390.337212</td>\n",
       "      <td>0.01</td>\n",
       "      <td>-1667.699000</td>\n",
       "      <td>-0.203645</td>\n",
       "      <td>0.626187</td>\n",
       "      <td>-0.078329</td>\n",
       "      <td>BTPN</td>\n",
       "    </tr>\n",
       "    <tr>\n",
       "      <th>21</th>\n",
       "      <td>BTPS</td>\n",
       "      <td>0.36</td>\n",
       "      <td>74.468839</td>\n",
       "      <td>0.08</td>\n",
       "      <td>567.248000</td>\n",
       "      <td>1.000410</td>\n",
       "      <td>2.744618</td>\n",
       "      <td>0.406199</td>\n",
       "      <td>BTPS</td>\n",
       "    </tr>\n",
       "    <tr>\n",
       "      <th>22</th>\n",
       "      <td>MASB</td>\n",
       "      <td>7.90</td>\n",
       "      <td>8.795873</td>\n",
       "      <td>0.01</td>\n",
       "      <td>-2756.119855</td>\n",
       "      <td>-1.326659</td>\n",
       "      <td>0.162187</td>\n",
       "      <td>0.716674</td>\n",
       "      <td>MASB</td>\n",
       "    </tr>\n",
       "    <tr>\n",
       "      <th>23</th>\n",
       "      <td>MEGA</td>\n",
       "      <td>5.54</td>\n",
       "      <td>179.298503</td>\n",
       "      <td>0.03</td>\n",
       "      <td>335.879344</td>\n",
       "      <td>0.187730</td>\n",
       "      <td>0.584143</td>\n",
       "      <td>0.380902</td>\n",
       "      <td>MEGA</td>\n",
       "    </tr>\n",
       "    <tr>\n",
       "      <th>24</th>\n",
       "      <td>NISP</td>\n",
       "      <td>5.64</td>\n",
       "      <td>477.078130</td>\n",
       "      <td>0.01</td>\n",
       "      <td>-1059.743000</td>\n",
       "      <td>-0.021432</td>\n",
       "      <td>0.152622</td>\n",
       "      <td>0.224029</td>\n",
       "      <td>NISP</td>\n",
       "    </tr>\n",
       "    <tr>\n",
       "      <th>25</th>\n",
       "      <td>PNBN</td>\n",
       "      <td>3.16</td>\n",
       "      <td>472.751948</td>\n",
       "      <td>0.02</td>\n",
       "      <td>-1195.535000</td>\n",
       "      <td>0.210346</td>\n",
       "      <td>0.894910</td>\n",
       "      <td>-0.035278</td>\n",
       "      <td>PNBN</td>\n",
       "    </tr>\n",
       "    <tr>\n",
       "      <th>26</th>\n",
       "      <td>SDRA</td>\n",
       "      <td>3.68</td>\n",
       "      <td>63.266265</td>\n",
       "      <td>0.01</td>\n",
       "      <td>29.416000</td>\n",
       "      <td>-0.152582</td>\n",
       "      <td>0.638734</td>\n",
       "      <td>-0.458200</td>\n",
       "      <td>SDRA</td>\n",
       "    </tr>\n",
       "  </tbody>\n",
       "</table>\n",
       "</div>"
      ],
      "text/plain": [
       "   Emitten    DER  Operating Profit Margin   ROA  Sales Growth  PC1 (St.)  \\\n",
       "0     AGRO   7.15               110.512950 -0.09   -185.032137  -1.462940   \n",
       "1     BBCA   4.88               984.562599  0.03  -1485.583000   0.835415   \n",
       "2     BBHI   4.36                 0.122581  0.01    121.858090  -0.260960   \n",
       "3     BBKP  10.03                56.900895 -0.01  -1445.750000  -1.239581   \n",
       "4     BBMD   2.90                25.002276  0.03     61.545475   0.071755   \n",
       "5     BBNI   6.52               790.535193  0.01  -4246.426000  -0.566624   \n",
       "6     BBRI   4.78              1043.240932  0.01   6531.747000   3.037693   \n",
       "7     BBSI   0.49                 0.269027  0.04     22.556467   0.298184   \n",
       "8     BBTN  15.82               218.457356  0.01    129.291000  -0.735593   \n",
       "9     BBYB   6.31                 3.922799 -0.04    167.373288  -0.914336   \n",
       "10    BCIC  11.53                52.313158 -0.02    -24.753000  -1.043621   \n",
       "11    BEKS   4.17                17.739772 -0.03    -93.899000  -0.716754   \n",
       "12    BJBR  11.34               259.542651  0.01    649.269000  -0.220519   \n",
       "13    BJTM   8.42               215.784366  0.02    424.496000  -0.039908   \n",
       "14    BKSW   3.82               110.202249 -0.02   -309.781000  -0.517872   \n",
       "15    BMRI   5.91              2143.120250  0.01   7034.205000   4.651899   \n",
       "16    BNBA   3.49                 0.361940  0.01    -81.856421  -0.260299   \n",
       "17    BNGA   5.49               710.270537  0.01  -1001.648000   0.333378   \n",
       "18    BNII   4.50                64.463265  0.01  -1690.584000  -0.706498   \n",
       "19    BNLI   5.07                22.415928  0.01    263.701000  -0.236986   \n",
       "20    BTPN   3.94               390.337212  0.01  -1667.699000  -0.203645   \n",
       "21    BTPS   0.36                74.468839  0.08    567.248000   1.000410   \n",
       "22    MASB   7.90                 8.795873  0.01  -2756.119855  -1.326659   \n",
       "23    MEGA   5.54               179.298503  0.03    335.879344   0.187730   \n",
       "24    NISP   5.64               477.078130  0.01  -1059.743000  -0.021432   \n",
       "25    PNBN   3.16               472.751948  0.02  -1195.535000   0.210346   \n",
       "26    SDRA   3.68                63.266265  0.01     29.416000  -0.152582   \n",
       "\n",
       "    PC2 (St.)  PC3 (St.) Emitten  \n",
       "0   -2.214528  -1.995307    AGRO  \n",
       "1    0.516378   0.765328    BBCA  \n",
       "2    0.521831  -0.354865    BBHI  \n",
       "3   -0.897718   0.549561    BBKP  \n",
       "4    1.244035  -0.177496    BBMD  \n",
       "5    0.212088   0.906143    BBNI  \n",
       "6   -0.955277  -0.667491    BBRI  \n",
       "7    1.970612  -0.441921    BBSI  \n",
       "8   -1.945299   2.047323    BBTN  \n",
       "9   -0.957727  -1.105750    BBYB  \n",
       "10  -1.599748   0.450285    BCIC  \n",
       "11  -0.278799  -1.274174    BEKS  \n",
       "12  -1.116765   1.091007    BJBR  \n",
       "13  -0.251481   0.738863    BJTM  \n",
       "14  -0.015104  -1.056398    BKSW  \n",
       "15  -1.848682  -0.095198    BMRI  \n",
       "16   0.726130  -0.506281    BNBA  \n",
       "17   0.049243   0.272306    BNGA  \n",
       "18   0.691377  -0.081883    BNII  \n",
       "19   0.346032  -0.220049    BNLI  \n",
       "20   0.626187  -0.078329    BTPN  \n",
       "21   2.744618   0.406199    BTPS  \n",
       "22   0.162187   0.716674    MASB  \n",
       "23   0.584143   0.380902    MEGA  \n",
       "24   0.152622   0.224029    NISP  \n",
       "25   0.894910  -0.035278    PNBN  \n",
       "26   0.638734  -0.458200    SDRA  "
      ]
     },
     "execution_count": 27,
     "metadata": {},
     "output_type": "execute_result"
    }
   ],
   "source": [
    "dftemp = pd.read_csv('../input/financial-ratio-bank/Data bank.csv')\n",
    "df2 = pd.read_csv('../input/financial-ratio-bank/Data bank.csv')\n",
    "df2.drop([' DER','Operating Profit Margin','ROA','Sales Growth'], axis=1, inplace=True)\n",
    "df3 = pd.concat([dftemp, new_X, df2], axis=1)\n",
    "df3.head(35)"
   ]
  }
 ],
 "metadata": {
  "kernelspec": {
   "display_name": "Python 3",
   "language": "python",
   "name": "python3"
  },
  "language_info": {
   "codemirror_mode": {
    "name": "ipython",
    "version": 3
   },
   "file_extension": ".py",
   "mimetype": "text/x-python",
   "name": "python",
   "nbconvert_exporter": "python",
   "pygments_lexer": "ipython3",
   "version": "3.7.12"
  },
  "papermill": {
   "default_parameters": {},
   "duration": 14.456338,
   "end_time": "2022-07-06T06:16:09.806749",
   "environment_variables": {},
   "exception": null,
   "input_path": "__notebook__.ipynb",
   "output_path": "__notebook__.ipynb",
   "parameters": {},
   "start_time": "2022-07-06T06:15:55.350411",
   "version": "2.3.4"
  }
 },
 "nbformat": 4,
 "nbformat_minor": 5
}
